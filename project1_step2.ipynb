{
 "cells": [
  {
   "attachments": {},
   "cell_type": "markdown",
   "metadata": {},
   "source": [
    "<h1 align=center style=\"line-height:200%;font-family:vazir;color:#0099cc\">\n",
    "<font face=\"vazir\" color=\"#0099cc\">\n",
    "Chocolate Sales\n",
    "</font>\n",
    "</h1>\n",
    "\n",
    "<p dir=ltr style=\"direction: ltr;text-align: left;line-height:200%;font-family:vazir;font-size=medium\">\n",
    "<font face=\"vazir\" size=3>\n",
    "In this step of the project, we intend to set prices for chocolates based on some of their specifications and the research we have conducted. To do this, we use the data that we processed in the previous step and then gradually try to improve our price estimation.\n",
    "</font>\n",
    "</p>\n"
   ]
  },
  {
   "attachments": {},
   "cell_type": "markdown",
   "metadata": {
    "id": "ZSVpqeM224lp"
   },
   "source": [
    "<h2 align=right style=\"line-height:200%;font-family:vazir;color:#0099cc\">\n",
    "<font face=\"vazir\" color=\"#0099cc\">\n",
    "Dataset\n",
    "</font>\n",
    "</h2>\n",
    "\n",
    "<p dir=ltr style=\"direction: ltr;text-align: left;line-height:200%;font-family:vazir;font-size=medium\">\n",
    "<font face=\"vazir\" size=3>\n",
    "In the previous step of the project, we performed a series of preprocessing on the dataset of chocolates and saved the results in the file <code>chocolate_preprocessed.csv</code>. Therefore, first, we will read this file into a dataframe in the cell below.\n",
    "</font>\n",
    "</p>\n"
   ]
  },
  {
   "cell_type": "code",
   "execution_count": null,
   "metadata": {
    "colab": {
     "base_uri": "https://localhost:8080/",
     "height": 223
    },
    "executionInfo": {
     "elapsed": 460,
     "status": "ok",
     "timestamp": 1627307355760,
     "user": {
      "displayName": "Parto Shahroodi",
      "photoUrl": "https://lh3.googleusercontent.com/a-/AOh14GgVRnuIKtxzeAYtLGbbb7NnFc-HXqxuTOJ6OMw7uw=s64",
      "userId": "08853559073941204272"
     },
     "user_tz": -270
    },
    "id": "w-d3otC0CkKH",
    "outputId": "741b4a44-84b1-4f11-ffc0-40e852154f51"
   },
   "outputs": [],
   "source": [
    "import numpy as np\n",
    "import pandas as pd\n",
    "\n",
    "df = pd.read_csv(\"chocolate_preprocessed.csv\")"
   ]
  },
  {
   "attachments": {},
   "cell_type": "markdown",
   "metadata": {
    "id": "NC-uprUp3RPr"
   },
   "source": [
    "<h2 align=right style=\"line-height:200%;font-family:vazir;color:#0099cc\">\n",
    "<font face=\"vazir\" color=\"#0099cc\">\n",
    "Part One\n",
    "</font>\n",
    "</h2>\n",
    "<p dir=ltr style=\"direction: ltr;text-align: left;line-height:200%;font-family:vazir;font-size=medium\">\n",
    "<font face=\"vazir\" size=3>\n",
    "Suppose after some research we find that the price of a chocolate has a direct relationship with its rating by experts. Fortunately, this rating exists in our data specifications, but the issue is that these ratings are not in percentage form. Therefore, at this stage, we want to rescale the values in the <code>Rating</code> column such that the highest value is 100, and the other values change in exactly the same ratio. For example, assume the highest value in this column is 4. In this case, to convert 4 to 100, we need to multiply it by 25. So, all values in this column should be multiplied by 25. Note that ultimately our column type should be <code>float</code>.\n",
    "</font>\n",
    "</p>\n"
   ]
  },
  {
   "cell_type": "code",
   "execution_count": null,
   "metadata": {
    "colab": {
     "base_uri": "https://localhost:8080/",
     "height": 223
    },
    "executionInfo": {
     "elapsed": 85,
     "status": "ok",
     "timestamp": 1627307356762,
     "user": {
      "displayName": "Parto Shahroodi",
      "photoUrl": "https://lh3.googleusercontent.com/a-/AOh14GgVRnuIKtxzeAYtLGbbb7NnFc-HXqxuTOJ6OMw7uw=s64",
      "userId": "08853559073941204272"
     },
     "user_tz": -270
    },
    "id": "hO7IGL0oDLS-",
    "outputId": "8fa50bdb-62ed-4586-faab-faee60bf4feb"
   },
   "outputs": [],
   "source": [
    "multiplication_value=(100/df['Rating'].max())\n",
    "print(multiplication_value)\n",
    "df['Rating'] = df['Rating'].apply(lambda x: x*multiplication_value)\n",
    "\n",
    "df.head()\n",
    "# df.info()"
   ]
  },
  {
   "attachments": {},
   "cell_type": "markdown",
   "metadata": {
    "id": "XKq_LJE03XQf"
   },
   "source": [
    "<h2 align=right style=\"line-height:200%;font-family:vazir;color:#0099cc\">\n",
    "<font face=\"vazir\" color=\"#0099cc\">\n",
    "Part Two\n",
    "</font>\n",
    "</h2>\n",
    "<p dir=ltr style=\"direction: ltr;text-align: left;line-height:200%;font-family:vazir;font-size=medium\">\n",
    "<font face=\"vazir\" size=3>\n",
    "After some research, it was determined that the price for 100 grams of the highest quality pure cocoa is 250,000 tomans. Therefore, we can estimate the price for 100 grams of a type of chocolate by multiplying the cocoa percentage (column <code>Cocoa Percent</code>) by 25, and also by the rating percentage (column <code>Rating</code>). In this part, using the formula below, we calculate the price for 100 grams of each type of chocolate and store it in a new column named <code>price(100g)</code>.\n",
    "<br>\n",
    "<center>\n",
    "Price per 100 grams = Cocoa Percentage × Rating × 25\n",
    "</center>\n",
    "</font>\n",
    "</p>\n"
   ]
  },
  {
   "cell_type": "code",
   "execution_count": null,
   "metadata": {
    "colab": {
     "base_uri": "https://localhost:8080/",
     "height": 441
    },
    "executionInfo": {
     "elapsed": 83,
     "status": "ok",
     "timestamp": 1627307356768,
     "user": {
      "displayName": "Parto Shahroodi",
      "photoUrl": "https://lh3.googleusercontent.com/a-/AOh14GgVRnuIKtxzeAYtLGbbb7NnFc-HXqxuTOJ6OMw7uw=s64",
      "userId": "08853559073941204272"
     },
     "user_tz": -270
    },
    "id": "ahOjOTgEENSP",
    "outputId": "1fa3c1e4-0bf4-45f4-b5b3-c38aa88d36b5"
   },
   "outputs": [],
   "source": [
    "df['price(100g)'] = df[\"Cocoa Percent\"]*df[\"Rating\"]*25\n",
    "df"
   ]
  },
  {
   "attachments": {},
   "cell_type": "markdown",
   "metadata": {
    "id": "Wl-nJBRy3fxe"
   },
   "source": [
    "<h2 align=right style=\"line-height:200%;font-family:vazir;color:#0099cc\">\n",
    "<font face=\"vazir\" color=\"#0099cc\">\n",
    "Part Three\n",
    "</font>\n",
    "</h2>\n",
    "<p dir=ltr style=\"direction: ltr;text-align: left;line-height:200%;font-family:vazir;font-size=medium\">\n",
    "<font face=\"vazir\" size=3>\n",
    "Suppose we have realized that dark chocolates are more expensive and profitable. Therefore, we plan to continue the project only with this type of chocolate. In this part, chocolates with a cocoa percentage higher than 70% are considered as dark chocolates and are saved in a new dataset named <code>dark_chocolates</code>.\n",
    "</font>\n",
    "</p>\n",
    "<p dir=ltr style=\"direction: ltr;text-align: left;line-height:200%;font-family:vazir;font-size=medium\">\n",
    "<font face=\"vazir\" size=3>\n",
    "<span style=\"color:green\"><b>Tip:</b></span>\n",
    "After separating and creating the dataframe, we reset the indices using the function <code>reset_index()</code>. In this step, we also consider the arguments <code>inplace</code> and <code>drop</code>.\n",
    "</font>\n",
    "</p>\n"
   ]
  },
  {
   "cell_type": "code",
   "execution_count": null,
   "metadata": {
    "colab": {
     "base_uri": "https://localhost:8080/",
     "height": 579
    },
    "executionInfo": {
     "elapsed": 81,
     "status": "ok",
     "timestamp": 1627307356775,
     "user": {
      "displayName": "Parto Shahroodi",
      "photoUrl": "https://lh3.googleusercontent.com/a-/AOh14GgVRnuIKtxzeAYtLGbbb7NnFc-HXqxuTOJ6OMw7uw=s64",
      "userId": "08853559073941204272"
     },
     "user_tz": -270
    },
    "id": "RLS_DDJ8zmkY",
    "outputId": "7999555c-462d-4ff0-999f-3852404b1bca"
   },
   "outputs": [],
   "source": [
    "dark_chocolates = df[df[\"Cocoa Percent\"]>70]\n",
    "dark_chocolates.reset_index(drop=True ,inplace=True)\n",
    "# dark_chocolates"
   ]
  },
  {
   "attachments": {},
   "cell_type": "markdown",
   "metadata": {
    "id": "rj3AaMY-3qzx"
   },
   "source": [
    "<h2 align=right style=\"line-height:200%;font-family:vazir;color:#0099cc\">\n",
    "<font face=\"vazir\" color=\"#0099cc\">\n",
    "Part Four\n",
    "</font>\n",
    "</h2>\n",
    "<p dir=ltr style=\"direction: ltr;text-align: left;line-height:200%;font-family:vazir;font-size=medium\">\n",
    "<font face=\"vazir\" size=3>\n",
    "The type of bean used for making chocolate also directly influences its quality. For example, one of the best types of chocolate beans is <code>Trinitario</code>.\n",
    "For this reason, we have decided to increase the price of the dark chocolates (dataframe <code>dark_chocolates</code>) that have used this bean by 10%.\n",
    "<br>\n",
    "First, in the variable <code>has_Trinitario</code>, we determine for each chocolate whether the name <code>Trinitario</code> is mentioned among the various bean types in the chocolate (column <code>Bean Type</code>). This means our output should be an array the length of the dark chocolates dataframe, indicating the presence or absence of this bean type in each chocolate as <code>True</code> or <code>False</code>.\n",
    "</font>\n",
    "</p>\n"
   ]
  },
  {
   "cell_type": "code",
   "execution_count": null,
   "metadata": {
    "colab": {
     "base_uri": "https://localhost:8080/",
     "height": 703
    },
    "executionInfo": {
     "elapsed": 84,
     "status": "ok",
     "timestamp": 1627307356781,
     "user": {
      "displayName": "Parto Shahroodi",
      "photoUrl": "https://lh3.googleusercontent.com/a-/AOh14GgVRnuIKtxzeAYtLGbbb7NnFc-HXqxuTOJ6OMw7uw=s64",
      "userId": "08853559073941204272"
     },
     "user_tz": -270
    },
    "id": "VnDeajuc5zQs",
    "outputId": "acab2dbb-85dc-41ba-f8a9-2712901316a2"
   },
   "outputs": [],
   "source": [
    "has_Trinitario=dark_chocolates[\"Bean Type\"].str.contains(\"Trinitario\",case=False)\n"
   ]
  },
  {
   "attachments": {},
   "cell_type": "markdown",
   "metadata": {},
   "source": [
    "<p dir=ltr style=\"direction: ltr;text-align: left;line-height:200%;font-family:vazir;font-size=medium\">\n",
    "<font face=\"vazir\" size=3>\n",
    "Now we can use the <code>has_Trinitario</code> array and increase the price by 10% for those rows that have a <code>True</code> value in this array.\n",
    "</font>\n",
    "</p>\n"
   ]
  },
  {
   "cell_type": "code",
   "execution_count": null,
   "metadata": {},
   "outputs": [],
   "source": [
    "dark_chocolates.loc[has_Trinitario, 'price(100g)']*=1.1"
   ]
  },
  {
   "attachments": {},
   "cell_type": "markdown",
   "metadata": {
    "id": "TAWqo4yU3vhK"
   },
   "source": [
    "<h2 align=right style=\"line-height:200%;font-family:vazir;color:#0099cc\">\n",
    "<font face=\"vazir\" color=\"#0099cc\">\n",
    "Part Five\n",
    "</font>\n",
    "</h2>\n",
    "<p dir=ltr style=\"direction: ltr;text-align: left;line-height:200%;font-family=vazir;font-size=medium\">\n",
    "<font face=\"vazir\" size=3>\n",
    "In the final step, we want to know the total revenue from selling these dark chocolates at the prices we have set. Therefore, we calculate the sum of the prices of dark chocolates (column <code>price(100g)</code>) and store it in a variable <code>priceSum</code>.\n",
    "</font>\n",
    "</p>\n"
   ]
  },
  {
   "cell_type": "code",
   "execution_count": null,
   "metadata": {
    "colab": {
     "base_uri": "https://localhost:8080/"
    },
    "executionInfo": {
     "elapsed": 72,
     "status": "ok",
     "timestamp": 1627307356783,
     "user": {
      "displayName": "Parto Shahroodi",
      "photoUrl": "https://lh3.googleusercontent.com/a-/AOh14GgVRnuIKtxzeAYtLGbbb7NnFc-HXqxuTOJ6OMw7uw=s64",
      "userId": "08853559073941204272"
     },
     "user_tz": -270
    },
    "id": "prbbEfzHC2d5",
    "outputId": "bdfbe283-d239-47c5-9dbb-79b5e41136a2"
   },
   "outputs": [],
   "source": [
    "priceSum = dark_chocolates[\"price(100g)\"].sum()\n",
    "# priceSum"
   ]
  },
  {
   "attachments": {},
   "cell_type": "markdown",
   "metadata": {},
   "source": [
    "<h2 align=right style=\"line-height:200%;font-family=vazir;color:#0099cc\">\n",
    "<font face=\"vazir\" color=\"#0099cc\">\n",
    "<b>Answer Cell</b>\n",
    "</font>\n",
    "</h2>\n",
    "\n",
    "<p dir=ltr style=\"direction: ltr; text-align: left; line-height:200%; font-family:vazir; font-size=medium\">\n",
    "<font face=\"vazir\" size=3>\n",
    "    To create the file <code>result.zip</code>, we run the cell below. We ensure that any changes made in the notebook are saved (<code>ctrl+s</code>) before running it, so that our code can be reviewed if support is needed.\n",
    "</font>\n",
    "</p>\n"
   ]
  },
  {
   "cell_type": "code",
   "execution_count": null,
   "metadata": {
    "id": "mvUkIpKqDsy4"
   },
   "outputs": [],
   "source": [
    "import zlib\n",
    "import zipfile\n",
    "\n",
    "def compress(file_names):\n",
    "    print(\"File Paths:\")\n",
    "    print(file_names)\n",
    "    compression = zipfile.ZIP_DEFLATED\n",
    "    with zipfile.ZipFile(\"result.zip\", mode=\"w\") as zf:\n",
    "        for file_name in file_names:\n",
    "            zf.write('./' + file_name, file_name, compress_type=compression)\n",
    "\n",
    "df.to_csv('chocolate_price.csv', index = False)\n",
    "dark_chocolates.to_csv('dark_chocolates.csv', index = True)\n",
    "\n",
    "np.savez(\"answers.npz\", has_Trinitario = has_Trinitario, priceSum = priceSum)\n",
    "file_names = [\"answers.npz\", \"project1_step2.ipynb\", \"chocolate_price.csv\", \"dark_chocolates.csv\"]\n",
    "compress(file_names)"
   ]
  },
  {
   "cell_type": "code",
   "execution_count": null,
   "metadata": {},
   "outputs": [],
   "source": []
  }
 ],
 "metadata": {
  "colab": {
   "authorship_tag": "ABX9TyM8tfOEJoXtp56mbFxUGCli",
   "collapsed_sections": [],
   "name": "گام دوم.ipynb",
   "provenance": []
  },
  "kernelspec": {
   "display_name": "qenv",
   "language": "python",
   "name": "qenv"
  },
  "language_info": {
   "codemirror_mode": {
    "name": "ipython",
    "version": 3
   },
   "file_extension": ".py",
   "mimetype": "text/x-python",
   "name": "python",
   "nbconvert_exporter": "python",
   "pygments_lexer": "ipython3",
   "version": "3.12.2"
  },
  "vscode": {
   "interpreter": {
    "hash": "6a29b8f2e1e8b11f80c3820468461bcdbea6564508a235f61a46eeb59d48b308"
   }
  }
 },
 "nbformat": 4,
 "nbformat_minor": 4
}
