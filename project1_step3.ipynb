{
 "cells": [
  {
   "cell_type": "markdown",
   "metadata": {},
   "source": [
    "<h1 align=center style=\"line-height:200%;font-family=vazir;color:#0099cc\">\n",
    "<font face=\"vazir\" color=\"#0099cc\">\n",
    "Better Chocolates\n",
    "</font>\n",
    "</h1>\n"
   ]
  },
  {
   "attachments": {},
   "cell_type": "markdown",
   "metadata": {
    "id": "IoGqY4BtZ4If"
   },
   "source": [
    "<p dir=ltr style=\"direction: ltr;text-align: left;line-height:200%;font-family=vazir;font-size=medium\">\n",
    "<font face=\"vazir\" size=3>\n",
    "Let's assume that after trying several regular (non-dark) chocolates, we realized that many of them are also delicious, and if we can find the higher quality ones, they will likely sell well. Therefore, in the final step of the project, we want to identify companies that produce higher-quality chocolates and separate their products.\n",
    "</font>\n",
    "</p>\n"
   ]
  },
  {
   "attachments": {},
   "cell_type": "markdown",
   "metadata": {},
   "source": [
    "<h2 align=right style=\"line-height:200%;font-family=vazir;color:#0099cc\">\n",
    "<font face=\"vazir\" color=\"#0099cc\">\n",
    "Dataset\n",
    "</font>\n",
    "</h2>\n",
    "\n",
    "<p dir=ltr style=\"direction: ltr;text-align: left;line-height:200%;font-family=vazir;font-size=medium\">\n",
    "<font face=\"vazir\" size=3>\n",
    "In the previous step, we estimated the prices of the chocolates and saved the final dataframe in a file named <code>chocolate_price.csv</code>. Initially, we will read that file into a dataframe.\n",
    "</font>\n",
    "</p>\n"
   ]
  },
  {
   "cell_type": "code",
   "execution_count": null,
   "metadata": {
    "colab": {
     "base_uri": "https://localhost:8080/",
     "height": 223
    },
    "executionInfo": {
     "elapsed": 532,
     "status": "ok",
     "timestamp": 1627498882795,
     "user": {
      "displayName": "Parto Shahroodi",
      "photoUrl": "https://lh3.googleusercontent.com/a-/AOh14GgVRnuIKtxzeAYtLGbbb7NnFc-HXqxuTOJ6OMw7uw=s64",
      "userId": "08853559073941204272"
     },
     "user_tz": -270
    },
    "id": "5zNJ61fR4cfU",
    "outputId": "37214551-b638-45d6-be7c-2af2fe1372f0"
   },
   "outputs": [],
   "source": [
    "import numpy as np\n",
    "import pandas as pd\n",
    "\n",
    "df = pd.read_csv('chocolate_price.csv')\n",
    "df.head()"
   ]
  },
  {
   "attachments": {},
   "cell_type": "markdown",
   "metadata": {},
   "source": [
    "<h2 align=right style=\"line-height:200%;font-family=vazir;color:#0099cc\">\n",
    "<font face=\"vazir\" color=\"#0099cc\">\n",
    "Part One\n",
    "</font>\n",
    "</h2>\n",
    "<p dir=ltr style=\"direction: ltr;text-align: left;line-height:200%;font-family=vazir;font-size=medium\">\n",
    "<font face=\"vazir\" size=3>\n",
    "Note that in this step, we are only dealing with non-dark chocolates. Therefore, initially, we separate the chocolates with a cocoa percentage of 70% or less and save them in the dataframe <code>df</code>.\n",
    "</font>\n",
    "</p>\n",
    "<p dir=ltr style=\"direction: ltr;text-align: left;line-height:200%;font-family=vazir;font-size=medium\">\n",
    "<font face=\"vazir\" size=3>\n",
    "<span style=\"color:green\"><b>Tip:</b></span>\n",
    "After separating and creating the dataframe, we reset the indices using the function <code>reset_index()</code>. In this step, we also pay attention to the arguments <code>inplace</code> and <code>drop</code>.\n",
    "</font>\n",
    "</p>\n"
   ]
  },
  {
   "cell_type": "code",
   "execution_count": null,
   "metadata": {},
   "outputs": [],
   "source": [
    "sweet_chocolates = df[df['Cocoa Percent']<=70]\n",
    "\n",
    "sweet_chocolates.reset_index(inplace=True,drop=True)\n",
    "\n",
    "df=sweet_chocolates"
   ]
  },
  {
   "attachments": {},
   "cell_type": "markdown",
   "metadata": {
    "id": "4Dzvaz_EbL4W"
   },
   "source": [
    "<h2 align=right style=\"line-height:200%;font-family=vazir;color:#0099cc\">\n",
    "<font face=\"vazir\" color=\"#0099cc\">\n",
    "Part Two\n",
    "</font>\n",
    "</h2>\n",
    "<p dir=ltr style=\"direction: ltr;text-align: left;line-height:200%;font-family=vazir;font-size=medium\">\n",
    "<font face=\"vazir\" size=3>\n",
    "In this part, for each chocolate-making company, we calculate the average rating of their chocolates for each year and save it in the dataframe <code>companies</code> as shown in the table below.\n",
    "\n",
    "<center>\n",
    "\n",
    "| | 2006 | ... | 2015 | 2016 | 2017 |\n",
    "| :---: | :---: | :---: | :---: | :---: | :---: |\n",
    "| A. Morin | NaN | ... | 63.75 | 75.0 | NaN |\n",
    "| ... | ... | ... | ... | ... | ...  |\n",
    "| hexx | NaN | ... | 60.00 | NaN | NaN |\n",
    "| twenty-four blackbirds | NaN | ... | NaN | NaN | NaN |\n",
    "\n",
    "</center>\n",
    "</font>\n",
    "</p>\n",
    "\n",
    "<p dir=ltr style=\"direction: ltr;text-align: left;line-height:200%;font-family=vazir;font-size=medium\">\n",
    "<font face=\"vazir\" size=3>\n",
    "\n",
    "</font>\n",
    "</p>\n"
   ]
  },
  {
   "cell_type": "code",
   "execution_count": null,
   "metadata": {
    "colab": {
     "base_uri": "https://localhost:8080/",
     "height": 423
    },
    "executionInfo": {
     "elapsed": 594,
     "status": "ok",
     "timestamp": 1627498890111,
     "user": {
      "displayName": "Parto Shahroodi",
      "photoUrl": "https://lh3.googleusercontent.com/a-/AOh14GgVRnuIKtxzeAYtLGbbb7NnFc-HXqxuTOJ6OMw7uw=s64",
      "userId": "08853559073941204272"
     },
     "user_tz": -270
    },
    "id": "ZUhHGdTcGcUs",
    "outputId": "e94f7d1b-e5e9-4946-8cca-45ef6880283c"
   },
   "outputs": [],
   "source": [
    "average_scores=df.groupby(['Company',\"Review Date\"])['Rating'].mean()\n",
    "companies = average_scores.unstack()\n",
    "companies"
   ]
  },
  {
   "attachments": {},
   "cell_type": "markdown",
   "metadata": {},
   "source": [
    "<p dir=ltr style=\"direction: ltr;text-align: left;line-height:200%;font-family=vazir;font-size=medium\">\n",
    "<font face=\"vazir\" size=3>\n",
    "The lines below are applied to standardize the appearance of the table.\n",
    "</font>\n",
    "</p>\n"
   ]
  },
  {
   "cell_type": "code",
   "execution_count": null,
   "metadata": {},
   "outputs": [],
   "source": [
    "companies.columns.name = None\n",
    "companies.index.name = None\n",
    "companies"
   ]
  },
  {
   "attachments": {},
   "cell_type": "markdown",
   "metadata": {
    "id": "pnlGnmVsaV0_"
   },
   "source": [
    "<h2 align=right style=\"line-height:200%;font-family=vazir;color:#0099cc\">\n",
    "<font face=\"vazir\" color=\"#0099cc\">\n",
    "Part Three\n",
    "</font>\n",
    "</h2>\n",
    "<p dir=ltr style=\"direction: ltr;text-align: left;line-height:200%;font-family=vazir;font-size=medium\">\n",
    "<font face=\"vazir\" size=3>\n",
    "To find the best companies, we want to consider only the ratings from the year 2012 onward (including the year 2012 itself).\n",
    "First, for each company, we calculate the average rating for the years from 2012 onward and save it in a variable <code>mean_ratings</code>.\n",
    "We note that our output should be a pandas series (<code>pd.Series</code>).\n",
    "</font>\n",
    "</p>\n"
   ]
  },
  {
   "cell_type": "code",
   "execution_count": null,
   "metadata": {
    "colab": {
     "base_uri": "https://localhost:8080/"
    },
    "executionInfo": {
     "elapsed": 446,
     "status": "ok",
     "timestamp": 1627498961315,
     "user": {
      "displayName": "Parto Shahroodi",
      "photoUrl": "https://lh3.googleusercontent.com/a-/AOh14GgVRnuIKtxzeAYtLGbbb7NnFc-HXqxuTOJ6OMw7uw=s64",
      "userId": "08853559073941204272"
     },
     "user_tz": -270
    },
    "id": "fA-hFYchWhq8",
    "outputId": "39f233c9-037d-4982-9282-bac8e9270524"
   },
   "outputs": [],
   "source": [
    "mean_ratings = companies.loc[:, \"2012\":].apply(lambda row: row.mean(), axis=1)\n",
    "\n",
    "mean_ratings\n"
   ]
  },
  {
   "attachments": {},
   "cell_type": "markdown",
   "metadata": {},
   "source": [
    "<p dir=ltr style=\"direction: ltr;text-align: left;line-height:200%;font-family=vazir;font-size=medium\">\n",
    "<font face=\"vazir\" size=3>\n",
    "Now, using the average rating of each company (<code>mean_ratings</code>), we find the top 10 companies with the best ratings and save them in a variable <code>best_ratings</code>. Note that our output should be a pandas series (<code>pd.Series</code>).\n",
    "</font>\n",
    "</p>\n",
    "\n",
    "<p dir=ltr style=\"direction: ltr;text-align: left;line-height:200%;font-family=vazir;font-size=medium\">\n",
    "<font face=\"vazir\" size=3>\n",
    "<span style=\"color:purple\"><b>Note:</b></span>\n",
    "In cases where companies have the same rating, we select the company based on alphabetical order. For example, if both companies <code>A</code> and <code>B</code> have an average rating of <code>75.00</code>, the priority goes to company <code>A</code>.\n",
    "</font>\n",
    "</p>\n"
   ]
  },
  {
   "cell_type": "code",
   "execution_count": null,
   "metadata": {},
   "outputs": [],
   "source": [
    "\n",
    "copied_mean_rating = mean_ratings.copy().reset_index(drop=False)  # Resetting index to columns\n",
    "best_ratings = copied_mean_rating.sort_values(by=[0,'index'], ascending=[False, True])  # Sorting by specified columns\n",
    "best_ratings.set_index( \"index\", inplace=True)  # Setting index back to original\n",
    "\n",
    "best_ratings.index.name = None\n",
    "best_ratings.columns.name = None\n",
    "best_ratings=best_ratings[0]\n",
    "best_ratings = best_ratings.head(10)\n",
    "\n",
    "best_ratings\n"
   ]
  },
  {
   "attachments": {},
   "cell_type": "markdown",
   "metadata": {
    "id": "x-Z5ei7XaYzB"
   },
   "source": [
    "<h2 align=right style=\"line-height:200%;font-family=vazir;color:#0099cc\">\n",
    "<font face=\"vazir\" color=\"#0099cc\">\n",
    "Part Four\n",
    "</font>\n",
    "</h2>\n",
    "<p dir=ltr style=\"direction: ltr;text-align: left;line-height:200%;font-family=vazir;font-size=medium\">\n",
    "<font face=\"vazir\" size=3>\n",
    "Now we will select chocolates from the dataframe <code>df</code> whose manufacturers are among the top 10 companies (<code>best_ratings</code>) and save them in a dataframe called <code>chocolates_to_sell</code>.\n",
    "</font>\n",
    "</p>\n",
    "\n",
    "<p dir=ltr style=\"direction: ltr;text-align: left;line-height:200%;font-family=vazir;font-size=medium\">\n",
    "<font face=\"vazir\" size=3>\n",
    "<span style=\"color:green\"><b>Tip 1:</b></span>\n",
    "After selecting these chocolates, we reset the indices using the command <code>reset_index</code>. We also remember to use the <code>drop</code> argument.\n",
    "\n",
    "<br>\n",
    "\n",
    "</font>\n",
    "</p>\n"
   ]
  },
  {
   "cell_type": "code",
   "execution_count": null,
   "metadata": {
    "colab": {
     "base_uri": "https://localhost:8080/",
     "height": 1000
    },
    "executionInfo": {
     "elapsed": 383,
     "status": "ok",
     "timestamp": 1627461617410,
     "user": {
      "displayName": "Parto Shahroodi",
      "photoUrl": "https://lh3.googleusercontent.com/a-/AOh14GgVRnuIKtxzeAYtLGbbb7NnFc-HXqxuTOJ6OMw7uw=s64",
      "userId": "08853559073941204272"
     },
     "user_tz": -270
    },
    "id": "eBCbfxjd-Ps5",
    "outputId": "22c49c90-ca6c-407f-9eeb-7597dcc799ef"
   },
   "outputs": [],
   "source": [
    "chocolates_to_sell = df[df[\"Company\"].isin(best_ratings.index)]\n",
    "chocolates_to_sell.reset_index(drop=True, inplace=True)\n",
    "\n",
    "# best_ratings_copy = mean_ratings.copy()\n",
    "# best_ratings_copy.reset_index(inplace=True)\n",
    "# sorted_best_ratings = best_ratings_copy.sort_values(by=[\"col1\", 'col2'], ascending=[False, True])\n",
    "# chocolates_to_sell = sorted_best_ratings.iloc[:10]\n",
    "\n"
   ]
  },
  {
   "attachments": {},
   "cell_type": "markdown",
   "metadata": {
    "id": "WGVRfSTsa6lv"
   },
   "source": [
    "<h2 align=right style=\"line-height:200%;font-family=vazir;color:#0099cc\">\n",
    "<font face=\"vazir\" color=\"#0099cc\">\n",
    "Part Five\n",
    "</font>\n",
    "</h2>\n",
    "<p dir=ltr style=\"direction: ltr;text-align: left;line-height:200%;font-family=vazir;font-size=medium\">\n",
    "<font face=\"vazir\" size=3>\n",
    "Finally, we save the total price of these chocolates (<code>chocolates_to_sell</code>) in the variable <code>priceSum</code> to determine our total revenue from these chocolates.\n",
    "</font>\n",
    "</p>\n"
   ]
  },
  {
   "cell_type": "code",
   "execution_count": null,
   "metadata": {
    "colab": {
     "base_uri": "https://localhost:8080/"
    },
    "executionInfo": {
     "elapsed": 794,
     "status": "ok",
     "timestamp": 1627323016155,
     "user": {
      "displayName": "Parto Shahroodi",
      "photoUrl": "https://lh3.googleusercontent.com/a-/AOh14GgVRnuIKtxzeAYtLGbbb7NnFc-HXqxuTOJ6OMw7uw=s64",
      "userId": "08853559073941204272"
     },
     "user_tz": -270
    },
    "id": "WlUvsyfj_ijl",
    "outputId": "777be270-30d7-4d59-becd-c0bf27e5e97a"
   },
   "outputs": [],
   "source": [
    "priceSum = chocolates_to_sell['price(100g)'].sum()\n"
   ]
  },
  {
   "attachments": {},
   "cell_type": "markdown",
   "metadata": {
    "id": "bHYK4FH4bBU0"
   },
   "source": [
    "<h2 align=right style=\"line-height:200%;font-family=vazir;color:#0099cc\">\n",
    "<font face=\"vazir\" color=\"#0099cc\">\n",
    "<b>Answer Cell</b>\n",
    "</font>\n",
    "</h2>\n",
    "\n",
    "<p dir=ltr style=\"direction: ltr;text-align: left;line-height:200%; font-family=vazir; font-size=medium\">\n",
    "<font face=\"vazir\" size=3>\n",
    "    To create the file <code>result.zip</code>, we run the cell below. We ensure that any changes made in the notebook are saved (<code>ctrl+s</code>) before running it, so that our code can be reviewed if support is needed.\n",
    "</font>\n",
    "</p>\n"
   ]
  },
  {
   "cell_type": "code",
   "execution_count": null,
   "metadata": {
    "id": "m3zsfIAcbDJa"
   },
   "outputs": [],
   "source": [
    "import zlib\n",
    "import zipfile\n",
    "\n",
    "def compress(file_names):\n",
    "    print(\"File Paths:\")\n",
    "    print(file_names)\n",
    "    compression = zipfile.ZIP_DEFLATED\n",
    "    with zipfile.ZipFile(\"result.zip\", mode=\"w\") as zf:\n",
    "        for file_name in file_names:\n",
    "            zf.write('./' + file_name, file_name, compress_type=compression)\n",
    "\n",
    "df.to_csv('normal_chocolates.csv', index = True)\n",
    "companies.to_csv('companies.csv', index = True)\n",
    "chocolates_to_sell.to_csv('chocolates_to_sell.csv', index = True)\n",
    "mean_ratings.to_csv(\"mean_ratings.csv\", index = True)\n",
    "best_ratings.to_csv(\"best_ratings.csv\", index = True)\n",
    "\n",
    "np.savez(\"answers.npz\" ,priceSum = priceSum)\n",
    "file_names = [\"answers.npz\", \"project1_step3.ipynb\", \"chocolates_to_sell.csv\", \n",
    "              \"companies.csv\", \"mean_ratings.csv\", \"best_ratings.csv\", \"normal_chocolates.csv\"]\n",
    "compress(file_names)"
   ]
  }
 ],
 "metadata": {
  "colab": {
   "authorship_tag": "ABX9TyPsom0lLlC0TBmB6Rp+DZQC",
   "collapsed_sections": [],
   "name": "گام سوم.ipynb",
   "provenance": []
  },
  "kernelspec": {
   "display_name": "qenv",
   "language": "python",
   "name": "qenv"
  },
  "language_info": {
   "codemirror_mode": {
    "name": "ipython",
    "version": 3
   },
   "file_extension": ".py",
   "mimetype": "text/x-python",
   "name": "python",
   "nbconvert_exporter": "python",
   "pygments_lexer": "ipython3",
   "version": "3.12.2"
  },
  "vscode": {
   "interpreter": {
    "hash": "44e7e1b8fa2096bd5707ed7fd18b1724a2db25f4c565a7673f8b6e7bfc49d25d"
   }
  }
 },
 "nbformat": 4,
 "nbformat_minor": 4
}
